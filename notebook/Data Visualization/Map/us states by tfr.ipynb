{
 "cells": [
  {
   "cell_type": "code",
   "execution_count": 1,
   "id": "2412fa1c-9c1a-4656-8aec-13ed60d45a40",
   "metadata": {},
   "outputs": [
    {
     "name": "stdout",
     "output_type": "stream",
     "text": [
      "Collecting folium\n",
      "  Downloading folium-0.17.0-py2.py3-none-any.whl.metadata (3.8 kB)\n",
      "Collecting branca>=0.6.0 (from folium)\n",
      "  Downloading branca-0.7.2-py3-none-any.whl.metadata (1.5 kB)\n",
      "Requirement already satisfied: jinja2>=2.9 in c:\\users\\rival\\appdata\\local\\programs\\python\\python312\\lib\\site-packages (from folium) (3.1.3)\n",
      "Requirement already satisfied: numpy in c:\\users\\rival\\appdata\\local\\programs\\python\\python312\\lib\\site-packages (from folium) (1.26.4)\n",
      "Requirement already satisfied: requests in c:\\users\\rival\\appdata\\local\\programs\\python\\python312\\lib\\site-packages (from folium) (2.31.0)\n",
      "Collecting xyzservices (from folium)\n",
      "  Downloading xyzservices-2024.9.0-py3-none-any.whl.metadata (4.1 kB)\n",
      "Requirement already satisfied: MarkupSafe>=2.0 in c:\\users\\rival\\appdata\\local\\programs\\python\\python312\\lib\\site-packages (from jinja2>=2.9->folium) (2.1.5)\n",
      "Requirement already satisfied: charset-normalizer<4,>=2 in c:\\users\\rival\\appdata\\local\\programs\\python\\python312\\lib\\site-packages (from requests->folium) (3.3.2)\n",
      "Requirement already satisfied: idna<4,>=2.5 in c:\\users\\rival\\appdata\\local\\programs\\python\\python312\\lib\\site-packages (from requests->folium) (3.6)\n",
      "Requirement already satisfied: urllib3<3,>=1.21.1 in c:\\users\\rival\\appdata\\roaming\\python\\python312\\site-packages (from requests->folium) (1.26.18)\n",
      "Requirement already satisfied: certifi>=2017.4.17 in c:\\users\\rival\\appdata\\local\\programs\\python\\python312\\lib\\site-packages (from requests->folium) (2024.2.2)\n",
      "Downloading folium-0.17.0-py2.py3-none-any.whl (108 kB)\n",
      "Downloading branca-0.7.2-py3-none-any.whl (25 kB)\n",
      "Downloading xyzservices-2024.9.0-py3-none-any.whl (85 kB)\n",
      "Installing collected packages: xyzservices, branca, folium\n",
      "Successfully installed branca-0.7.2 folium-0.17.0 xyzservices-2024.9.0\n"
     ]
    }
   ],
   "source": [
    "!pip install folium"
   ]
  },
  {
   "cell_type": "code",
   "execution_count": 2,
   "id": "95e3a409-0da8-4980-a9a0-87ce4dfd668a",
   "metadata": {},
   "outputs": [],
   "source": [
    "import pandas as pd\n",
    "import folium\n",
    "import json"
   ]
  },
  {
   "cell_type": "code",
   "execution_count": 3,
   "id": "1487cfca-eeca-4789-9b12-3d35f54bfc80",
   "metadata": {},
   "outputs": [],
   "source": [
    "csv_file_path = \"../../../csv/demographics/us_states_by_tfr.csv\"\n",
    "states_geo_json = \"../../../geojson/us_state.geojson\""
   ]
  },
  {
   "cell_type": "code",
   "execution_count": 4,
   "id": "1b1c4d4f-25f4-43ba-a9a9-f1d8213b9e6d",
   "metadata": {},
   "outputs": [],
   "source": [
    "df = pd.read_csv(csv_file_path)"
   ]
  },
  {
   "cell_type": "code",
   "execution_count": 5,
   "id": "fa749164-d02e-4cbf-8ed6-3cbfae7b4ab1",
   "metadata": {},
   "outputs": [
    {
     "data": {
      "text/html": [
       "<div>\n",
       "<style scoped>\n",
       "    .dataframe tbody tr th:only-of-type {\n",
       "        vertical-align: middle;\n",
       "    }\n",
       "\n",
       "    .dataframe tbody tr th {\n",
       "        vertical-align: top;\n",
       "    }\n",
       "\n",
       "    .dataframe thead th {\n",
       "        text-align: right;\n",
       "    }\n",
       "</style>\n",
       "<table border=\"1\" class=\"dataframe\">\n",
       "  <thead>\n",
       "    <tr style=\"text-align: right;\">\n",
       "      <th></th>\n",
       "      <th>State</th>\n",
       "      <th>2008</th>\n",
       "      <th>2009</th>\n",
       "      <th>2010</th>\n",
       "      <th>2011</th>\n",
       "      <th>2012</th>\n",
       "      <th>2013</th>\n",
       "      <th>2014</th>\n",
       "      <th>2015</th>\n",
       "      <th>2016</th>\n",
       "      <th>2017</th>\n",
       "      <th>2018</th>\n",
       "      <th>2019</th>\n",
       "      <th>2020</th>\n",
       "      <th>2021</th>\n",
       "      <th>2022</th>\n",
       "      <th>name</th>\n",
       "    </tr>\n",
       "  </thead>\n",
       "  <tbody>\n",
       "    <tr>\n",
       "      <th>0</th>\n",
       "      <td>Alabama</td>\n",
       "      <td>2.06</td>\n",
       "      <td>1.95</td>\n",
       "      <td>1.87</td>\n",
       "      <td>1.84</td>\n",
       "      <td>1.81</td>\n",
       "      <td>1.79</td>\n",
       "      <td>1.83</td>\n",
       "      <td>1.83</td>\n",
       "      <td>1.82</td>\n",
       "      <td>1.82</td>\n",
       "      <td>1.79</td>\n",
       "      <td>1.81</td>\n",
       "      <td>1.78</td>\n",
       "      <td>1.77</td>\n",
       "      <td>1.74</td>\n",
       "      <td>AL</td>\n",
       "    </tr>\n",
       "    <tr>\n",
       "      <th>1</th>\n",
       "      <td>Alaska</td>\n",
       "      <td>2.40</td>\n",
       "      <td>2.27</td>\n",
       "      <td>2.35</td>\n",
       "      <td>2.28</td>\n",
       "      <td>2.19</td>\n",
       "      <td>2.22</td>\n",
       "      <td>2.19</td>\n",
       "      <td>2.17</td>\n",
       "      <td>2.14</td>\n",
       "      <td>2.02</td>\n",
       "      <td>1.97</td>\n",
       "      <td>1.94</td>\n",
       "      <td>1.89</td>\n",
       "      <td>1.89</td>\n",
       "      <td>1.89</td>\n",
       "      <td>AK</td>\n",
       "    </tr>\n",
       "    <tr>\n",
       "      <th>2</th>\n",
       "      <td>Arizona</td>\n",
       "      <td>2.31</td>\n",
       "      <td>2.11</td>\n",
       "      <td>2.07</td>\n",
       "      <td>2.00</td>\n",
       "      <td>2.00</td>\n",
       "      <td>1.97</td>\n",
       "      <td>1.97</td>\n",
       "      <td>1.92</td>\n",
       "      <td>1.87</td>\n",
       "      <td>1.79</td>\n",
       "      <td>1.72</td>\n",
       "      <td>1.67</td>\n",
       "      <td>1.58</td>\n",
       "      <td>1.64</td>\n",
       "      <td>1.62</td>\n",
       "      <td>AZ</td>\n",
       "    </tr>\n",
       "    <tr>\n",
       "      <th>3</th>\n",
       "      <td>Arkansas</td>\n",
       "      <td>2.16</td>\n",
       "      <td>2.07</td>\n",
       "      <td>2.00</td>\n",
       "      <td>2.00</td>\n",
       "      <td>1.97</td>\n",
       "      <td>1.94</td>\n",
       "      <td>1.97</td>\n",
       "      <td>1.98</td>\n",
       "      <td>1.95</td>\n",
       "      <td>1.91</td>\n",
       "      <td>1.88</td>\n",
       "      <td>1.86</td>\n",
       "      <td>1.79</td>\n",
       "      <td>1.84</td>\n",
       "      <td>1.79</td>\n",
       "      <td>AR</td>\n",
       "    </tr>\n",
       "    <tr>\n",
       "      <th>4</th>\n",
       "      <td>California</td>\n",
       "      <td>2.15</td>\n",
       "      <td>2.05</td>\n",
       "      <td>1.95</td>\n",
       "      <td>1.90</td>\n",
       "      <td>1.89</td>\n",
       "      <td>1.84</td>\n",
       "      <td>1.84</td>\n",
       "      <td>1.79</td>\n",
       "      <td>1.77</td>\n",
       "      <td>1.69</td>\n",
       "      <td>1.63</td>\n",
       "      <td>1.60</td>\n",
       "      <td>1.52</td>\n",
       "      <td>1.54</td>\n",
       "      <td>1.54</td>\n",
       "      <td>CA</td>\n",
       "    </tr>\n",
       "  </tbody>\n",
       "</table>\n",
       "</div>"
      ],
      "text/plain": [
       "         State  2008  2009  2010  2011  2012  2013  2014  2015  2016  2017  \\\n",
       "0      Alabama  2.06  1.95  1.87  1.84  1.81  1.79  1.83  1.83  1.82  1.82   \n",
       "1       Alaska  2.40  2.27  2.35  2.28  2.19  2.22  2.19  2.17  2.14  2.02   \n",
       "2      Arizona  2.31  2.11  2.07  2.00  2.00  1.97  1.97  1.92  1.87  1.79   \n",
       "3     Arkansas  2.16  2.07  2.00  2.00  1.97  1.94  1.97  1.98  1.95  1.91   \n",
       "4   California  2.15  2.05  1.95  1.90  1.89  1.84  1.84  1.79  1.77  1.69   \n",
       "\n",
       "   2018  2019  2020  2021  2022 name  \n",
       "0  1.79  1.81  1.78  1.77  1.74   AL  \n",
       "1  1.97  1.94  1.89  1.89  1.89   AK  \n",
       "2  1.72  1.67  1.58  1.64  1.62   AZ  \n",
       "3  1.88  1.86  1.79  1.84  1.79   AR  \n",
       "4  1.63  1.60  1.52  1.54  1.54   CA  "
      ]
     },
     "execution_count": 5,
     "metadata": {},
     "output_type": "execute_result"
    }
   ],
   "source": [
    "df.head()"
   ]
  },
  {
   "cell_type": "code",
   "execution_count": 6,
   "id": "83765ba3-94a8-4e73-aac5-22edb7b3e803",
   "metadata": {},
   "outputs": [],
   "source": [
    "try:\n",
    "    geo_data = json.load(open(states_geo_json, encoding='utf-8'))\n",
    "except:\n",
    "    geo_data = json.load(open(states_geo_json, encoding='utf-8-sig'))"
   ]
  },
  {
   "cell_type": "code",
   "execution_count": 8,
   "id": "534b3ddc-c265-43c5-bf9c-b460fa2c60f1",
   "metadata": {},
   "outputs": [],
   "source": [
    "geo_map = folium.Map(location = [40,-100], zoom_start=2)\n",
    "geo_map='2022'"
   ]
  },
  {
   "cell_type": "code",
   "execution_count": 12,
   "id": "43f1fbeb-1b7e-43fc-8831-56d393d85c28",
   "metadata": {},
   "outputs": [
    {
     "data": {
      "text/plain": [
       "1.24"
      ]
     },
     "execution_count": 12,
     "metadata": {},
     "output_type": "execute_result"
    }
   ],
   "source": [
    "df[geo_map].min()"
   ]
  },
  {
   "cell_type": "code",
   "execution_count": 13,
   "id": "f274f7e2-3b31-4ab1-90ec-059dbd2c4855",
   "metadata": {},
   "outputs": [],
   "source": [
    "threshold_scale=[1.1,1.3,1.5,1.7,1.9,2.1]"
   ]
  },
  {
   "cell_type": "code",
   "execution_count": 15,
   "id": "ae12b1ab-5b71-4312-b402-cffedfedda76",
   "metadata": {},
   "outputs": [
    {
     "data": {
      "text/plain": [
       "<folium.features.Choropleth at 0x22e241d6d20>"
      ]
     },
     "execution_count": 15,
     "metadata": {},
     "output_type": "execute_result"
    }
   ],
   "source": [
    "folium.Choropleth(geo_data=geo_data,\n",
    "                  data=df,\n",
    "                  columns=['name',target_year],\n",
    "                  key_on='feature.id',\n",
    "                  fill_color='YlGn',\n",
    "                  fill_opacity=0.7,\n",
    "                  line_opacity=0.2,\n",
    "                  legend_name=\"TFR by states-\"+target_year,\n",
    "                  #bins=bins,\n",
    "                  threshold_scale=threshold_scale,                  \n",
    "                  reset=True\n",
    "                 ).add_to(geo_map)\n",
    "\n",
    "\n"
   ]
  },
  {
   "cell_type": "code",
   "execution_count": 18,
   "id": "09e1cc87-9b24-4211-9782-93200aea101d",
   "metadata": {},
   "outputs": [],
   "source": [
    "\n",
    "save_path = \"../../../html/us-states-tfr-\"+target_year+\".html\"\n",
    "\n",
    "geo_map.save(save_path)"
   ]
  }
 ],
 "metadata": {
  "kernelspec": {
   "display_name": "Python 3 (ipykernel)",
   "language": "python",
   "name": "python3"
  },
  "language_info": {
   "codemirror_mode": {
    "name": "ipython",
    "version": 3
   },
   "file_extension": ".py",
   "mimetype": "text/x-python",
   "name": "python",
   "nbconvert_exporter": "python",
   "pygments_lexer": "ipython3",
   "version": "3.12.4"
  }
 },
 "nbformat": 4,
 "nbformat_minor": 5
}
