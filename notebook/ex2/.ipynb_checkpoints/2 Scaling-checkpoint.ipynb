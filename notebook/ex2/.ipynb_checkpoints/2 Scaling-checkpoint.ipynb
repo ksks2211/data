{
 "cells": [
  {
   "cell_type": "code",
   "execution_count": 1,
   "id": "72097828-fde9-4685-8471-540f0092b0f4",
   "metadata": {},
   "outputs": [],
   "source": [
    "from sklearn.preprocessing import StandardScaler, MinMaxScaler, RobustScaler, MaxAbsScaler\n",
    "import numpy as np\n",
    "\n",
    "# Create a simple dataset\n",
    "data = np.array([[1], [2], [3], [4], [5], [6], [7], [8], [9], [10]]).astype(float)"
   ]
  },
  {
   "cell_type": "code",
   "execution_count": 2,
   "id": "ff11667f-5997-4279-a656-625767932f58",
   "metadata": {},
   "outputs": [
    {
     "data": {
      "text/plain": [
       "array([[ 1.],\n",
       "       [ 2.],\n",
       "       [ 3.],\n",
       "       [ 4.],\n",
       "       [ 5.],\n",
       "       [ 6.],\n",
       "       [ 7.],\n",
       "       [ 8.],\n",
       "       [ 9.],\n",
       "       [10.]])"
      ]
     },
     "execution_count": 2,
     "metadata": {},
     "output_type": "execute_result"
    }
   ],
   "source": [
    "data"
   ]
  },
  {
   "cell_type": "code",
   "execution_count": 3,
   "id": "09409993-c990-4fd1-993c-f42d5f3c8ef1",
   "metadata": {},
   "outputs": [],
   "source": [
    "# Initialize scalers\n",
    "standard_scaler = StandardScaler()\n",
    "min_max_scaler = MinMaxScaler()\n",
    "robust_scaler = RobustScaler()\n",
    "max_abs_scaler = MaxAbsScaler()"
   ]
  },
  {
   "cell_type": "code",
   "execution_count": 4,
   "id": "87b869ee-c4c6-4eab-b206-2fc897b5be44",
   "metadata": {},
   "outputs": [],
   "source": [
    "# Scale the data using different scalers\n",
    "scaled_standard = standard_scaler.fit_transform(data)\n",
    "scaled_min_max = min_max_scaler.fit_transform(data)\n",
    "scaled_robust = robust_scaler.fit_transform(data)\n",
    "scaled_max_abs = max_abs_scaler.fit_transform(data)"
   ]
  },
  {
   "cell_type": "code",
   "execution_count": 5,
   "id": "d2c03416-8f28-4901-b47b-9bebd76b120e",
   "metadata": {},
   "outputs": [],
   "source": [
    "# Show the original and scaled data\n",
    "scaled_data = {\n",
    "    \"Original\": data.flatten(),\n",
    "    \"StandardScaler\": scaled_standard.flatten(),\n",
    "    \"MinMaxScaler\": scaled_min_max.flatten(),\n",
    "    \"RobustScaler\": scaled_robust.flatten(),\n",
    "    \"MaxAbsScaler\": scaled_max_abs.flatten()\n",
    "}"
   ]
  },
  {
   "cell_type": "code",
   "execution_count": 7,
   "id": "a23fce80-0b8b-488b-8961-56cb9fde2663",
   "metadata": {},
   "outputs": [
    {
     "data": {
      "text/plain": [
       "{'Original': array([ 1.,  2.,  3.,  4.,  5.,  6.,  7.,  8.,  9., 10.]),\n",
       " 'StandardScaler': array([-1.5666989 , -1.21854359, -0.87038828, -0.52223297, -0.17407766,\n",
       "         0.17407766,  0.52223297,  0.87038828,  1.21854359,  1.5666989 ]),\n",
       " 'MinMaxScaler': array([0.        , 0.11111111, 0.22222222, 0.33333333, 0.44444444,\n",
       "        0.55555556, 0.66666667, 0.77777778, 0.88888889, 1.        ]),\n",
       " 'RobustScaler': array([-1.        , -0.77777778, -0.55555556, -0.33333333, -0.11111111,\n",
       "         0.11111111,  0.33333333,  0.55555556,  0.77777778,  1.        ]),\n",
       " 'MaxAbsScaler': array([0.1, 0.2, 0.3, 0.4, 0.5, 0.6, 0.7, 0.8, 0.9, 1. ])}"
      ]
     },
     "execution_count": 7,
     "metadata": {},
     "output_type": "execute_result"
    }
   ],
   "source": [
    "scaled_data"
   ]
  },
  {
   "cell_type": "code",
   "execution_count": 9,
   "id": "0df3cfc0-5728-48e3-b555-4dd18a882ccd",
   "metadata": {},
   "outputs": [
    {
     "data": {
      "text/plain": [
       "-6.661338147750939e-17"
      ]
     },
     "execution_count": 9,
     "metadata": {},
     "output_type": "execute_result"
    }
   ],
   "source": [
    "scaled_standard.mean()"
   ]
  },
  {
   "cell_type": "code",
   "execution_count": 10,
   "id": "b0a8b09c-abf9-4f42-af81-7872ee150319",
   "metadata": {},
   "outputs": [
    {
     "data": {
      "text/plain": [
       "1.0"
      ]
     },
     "execution_count": 10,
     "metadata": {},
     "output_type": "execute_result"
    }
   ],
   "source": [
    "scaled_standard.std()"
   ]
  },
  {
   "cell_type": "code",
   "execution_count": 14,
   "id": "c5bf6210-fb9f-4b8b-9d37-6402b7f431d9",
   "metadata": {},
   "outputs": [
    {
     "data": {
      "text/plain": [
       "array([[-1.5666989 ],\n",
       "       [-1.21854359],\n",
       "       [-0.87038828],\n",
       "       [-0.52223297],\n",
       "       [-0.17407766],\n",
       "       [ 0.17407766],\n",
       "       [ 0.52223297],\n",
       "       [ 0.87038828],\n",
       "       [ 1.21854359],\n",
       "       [ 1.5666989 ]])"
      ]
     },
     "execution_count": 14,
     "metadata": {},
     "output_type": "execute_result"
    }
   ],
   "source": [
    "# StandardScaler\n",
    "(data - data.mean())/data.std()"
   ]
  },
  {
   "cell_type": "code",
   "execution_count": 16,
   "id": "578012e2-db97-4a02-a051-713bc83890ab",
   "metadata": {},
   "outputs": [
    {
     "data": {
      "text/plain": [
       "array([[0.        ],\n",
       "       [0.11111111],\n",
       "       [0.22222222],\n",
       "       [0.33333333],\n",
       "       [0.44444444],\n",
       "       [0.55555556],\n",
       "       [0.66666667],\n",
       "       [0.77777778],\n",
       "       [0.88888889],\n",
       "       [1.        ]])"
      ]
     },
     "execution_count": 16,
     "metadata": {},
     "output_type": "execute_result"
    }
   ],
   "source": [
    "# MinMax scaler\n",
    "(data - data.min())/(data.max() - data.min())"
   ]
  },
  {
   "cell_type": "code",
   "execution_count": null,
   "id": "1e574162-7697-4dff-b94f-b062dcb4fbc6",
   "metadata": {},
   "outputs": [],
   "source": []
  }
 ],
 "metadata": {
  "kernelspec": {
   "display_name": "Python 3 (ipykernel)",
   "language": "python",
   "name": "python3"
  },
  "language_info": {
   "codemirror_mode": {
    "name": "ipython",
    "version": 3
   },
   "file_extension": ".py",
   "mimetype": "text/x-python",
   "name": "python",
   "nbconvert_exporter": "python",
   "pygments_lexer": "ipython3",
   "version": "3.12.1"
  }
 },
 "nbformat": 4,
 "nbformat_minor": 5
}
