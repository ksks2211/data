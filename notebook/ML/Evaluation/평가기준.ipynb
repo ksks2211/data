{
 "cells": [
  {
   "cell_type": "markdown",
   "id": "93421ab8-8c31-4bdc-9f60-46a644d9796a",
   "metadata": {},
   "source": [
    "## \n",
    "\n",
    "### MSE\n",
    "- Mean Squred Error\n",
    "- `from sklearn.metrics import mean_squared_error`\n",
    "- `mean_squared_error(y_test, y_pred)`\n",
    "\n",
    "### r2 score\n",
    "- `from sklearn.metrics import r2_score`\n",
    "- `r2_score(y_test, y_pred)`\n",
    "\n",
    "### RMSE\n",
    "- `np.sqrt(mse)`\n",
    "\n"
   ]
  },
  {
   "cell_type": "code",
   "execution_count": null,
   "id": "d91e6fbf-bdb9-4d88-ace1-1b95d7997266",
   "metadata": {},
   "outputs": [],
   "source": []
  }
 ],
 "metadata": {
  "kernelspec": {
   "display_name": "Python 3 (ipykernel)",
   "language": "python",
   "name": "python3"
  },
  "language_info": {
   "codemirror_mode": {
    "name": "ipython",
    "version": 3
   },
   "file_extension": ".py",
   "mimetype": "text/x-python",
   "name": "python",
   "nbconvert_exporter": "python",
   "pygments_lexer": "ipython3",
   "version": "3.12.1"
  }
 },
 "nbformat": 4,
 "nbformat_minor": 5
}
