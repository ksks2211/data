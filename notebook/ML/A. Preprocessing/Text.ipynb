{
 "cells": [
  {
   "cell_type": "markdown",
   "id": "f00ea31b-ecc4-46d8-b6cb-ebdaf24bdf72",
   "metadata": {},
   "source": [
    "## Text data preprocessing\n",
    "- Tokenization\n",
    "- Lowercasing\n",
    "- Removing Punctuation and Special Characters\n",
    "- Removing Stopwords\n",
    "- Stemming\n",
    "- Lemmatization\n",
    "- Vectorization\n",
    "\n",
    "### Vectorization\n",
    "- Bag of Words\n",
    "- TF-IDF\n",
    "- Word Embeddings e.g. Word2Vec\n",
    "\n",
    "\n",
    "\n",
    "### Models\n",
    "- Traditional ML Models(Naive Bayes, SVM, Logistic Regression) : Require extensive preprocessing\n",
    "- Neural Network Models\n",
    "    - Benefit from tokenization, lowercasing, and word embeddings\n",
    "    - Can learn from sequence information, so stopwords might be kept if they contribute\n"
   ]
  },
  {
   "cell_type": "code",
   "execution_count": null,
   "id": "75c0efdf-a473-439f-8f9e-7972d44de225",
   "metadata": {},
   "outputs": [],
   "source": []
  }
 ],
 "metadata": {
  "kernelspec": {
   "display_name": "Python 3 (ipykernel)",
   "language": "python",
   "name": "python3"
  },
  "language_info": {
   "codemirror_mode": {
    "name": "ipython",
    "version": 3
   },
   "file_extension": ".py",
   "mimetype": "text/x-python",
   "name": "python",
   "nbconvert_exporter": "python",
   "pygments_lexer": "ipython3",
   "version": "3.12.1"
  }
 },
 "nbformat": 4,
 "nbformat_minor": 5
}
