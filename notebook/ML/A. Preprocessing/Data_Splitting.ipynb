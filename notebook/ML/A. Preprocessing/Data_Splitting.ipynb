{
 "cells": [
  {
   "cell_type": "markdown",
   "id": "b4b71110-32d5-4dc9-9a25-a528530d931b",
   "metadata": {},
   "source": [
    "## __Split dataset into features and target (Supervised Learning)__"
   ]
  },
  {
   "cell_type": "code",
   "execution_count": 1,
   "id": "33e10a11-c048-41f5-8e06-c1a185acd352",
   "metadata": {},
   "outputs": [],
   "source": [
    "from sklearn.datasets import fetch_california_housing\n",
    "import pandas as pd\n",
    "\n",
    "\n",
    "california_housing = fetch_california_housing()\n",
    "df = pd.DataFrame(california_housing.data, columns=california_housing.feature_names)\n",
    "df['MedHouseVal'] = california_housing.target"
   ]
  },
  {
   "cell_type": "code",
   "execution_count": 2,
   "id": "d92db4f2-43c4-4d08-9f7c-b992c4b76d70",
   "metadata": {},
   "outputs": [],
   "source": [
    "X = df.drop('MedHouseVal', axis=1)\n",
    "y = df['MedHouseVal']"
   ]
  },
  {
   "cell_type": "markdown",
   "id": "e3540e8c-8cc3-46f2-ad30-d9e169e2c7d3",
   "metadata": {},
   "source": [
    "## __Preprocessing__"
   ]
  },
  {
   "cell_type": "code",
   "execution_count": 5,
   "id": "63721b4c-b427-42c0-9fe6-dc39d4ede9a9",
   "metadata": {},
   "outputs": [],
   "source": [
    "from sklearn.preprocessing import StandardScaler\n",
    "\n",
    "scaler = StandardScaler()\n",
    "X_scaled = scaler.fit_transform(X)"
   ]
  },
  {
   "cell_type": "markdown",
   "id": "1e3c1ae3-b46a-4ceb-9d12-f90321c60ced",
   "metadata": {},
   "source": [
    "## __Split data into train and test__"
   ]
  },
  {
   "cell_type": "code",
   "execution_count": 8,
   "id": "109dd677-169b-4dd9-a160-3251ab804330",
   "metadata": {},
   "outputs": [],
   "source": [
    "from sklearn.model_selection import train_test_split\n",
    "\n",
    "# Train : Test = 8 : 2 \n",
    "test_size=0.2\n",
    "\n",
    "X_train, X_test, y_train, y_test = train_test_split(X_scaled, y, test_size=test_size, random_state=42)"
   ]
  },
  {
   "cell_type": "code",
   "execution_count": 9,
   "id": "4c7bb3c5-6486-45a9-b336-89671a6cd778",
   "metadata": {},
   "outputs": [
    {
     "data": {
      "text/plain": [
       "(16512, 8)"
      ]
     },
     "execution_count": 9,
     "metadata": {},
     "output_type": "execute_result"
    }
   ],
   "source": [
    "X_train.shape"
   ]
  },
  {
   "cell_type": "code",
   "execution_count": 11,
   "id": "72c91c37-7420-40c5-a167-075b8858860c",
   "metadata": {},
   "outputs": [
    {
     "data": {
      "text/plain": [
       "(4128, 8)"
      ]
     },
     "execution_count": 11,
     "metadata": {},
     "output_type": "execute_result"
    }
   ],
   "source": [
    "X_test.shape"
   ]
  }
 ],
 "metadata": {
  "kernelspec": {
   "display_name": "Python 3 (ipykernel)",
   "language": "python",
   "name": "python3"
  },
  "language_info": {
   "codemirror_mode": {
    "name": "ipython",
    "version": 3
   },
   "file_extension": ".py",
   "mimetype": "text/x-python",
   "name": "python",
   "nbconvert_exporter": "python",
   "pygments_lexer": "ipython3",
   "version": "3.12.1"
  }
 },
 "nbformat": 4,
 "nbformat_minor": 5
}
