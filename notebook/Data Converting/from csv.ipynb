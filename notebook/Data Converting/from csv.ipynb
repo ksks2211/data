{
 "cells": [
  {
   "cell_type": "code",
   "execution_count": 4,
   "id": "18412c29-6207-4ee3-b6a5-7f98f96ddc9d",
   "metadata": {},
   "outputs": [],
   "source": [
    "import pandas as pd\n",
    "import json"
   ]
  },
  {
   "cell_type": "code",
   "execution_count": 5,
   "id": "90ffeadf-df21-4701-981a-0e2a21f39421",
   "metadata": {},
   "outputs": [],
   "source": [
    "def convert_csv_to_json_file(origin, target, key) : \n",
    "    df = pd.read_csv(origin, thousands = ',')\n",
    "    population_data = df.to_dict(orient='records')\n",
    "    json_data = {key : population_data}\n",
    "    json_output = json.dumps(json_data, indent=2)\n",
    "    print(json_output)\n",
    "    with open(target, 'w', encoding='utf-8') as file:\n",
    "        json.dump(json_data, file, ensure_ascii=False, indent=2)"
   ]
  },
  {
   "cell_type": "code",
   "execution_count": 6,
   "id": "83e0113a-0089-4507-99fc-6d9eb15ff91b",
   "metadata": {},
   "outputs": [
    {
     "name": "stdout",
     "output_type": "stream",
     "text": [
      "{\n",
      "  \"populations\": [\n",
      "    {\n",
      "      \"Year\": 1950,\n",
      "      \"Population\": 1021000\n",
      "    },\n",
      "    {\n",
      "      \"Year\": 1960,\n",
      "      \"Population\": 2361000\n",
      "    },\n",
      "    {\n",
      "      \"Year\": 1970,\n",
      "      \"Population\": 5312000\n",
      "    },\n",
      "    {\n",
      "      \"Year\": 1980,\n",
      "      \"Population\": 8364379\n",
      "    },\n",
      "    {\n",
      "      \"Year\": 1990,\n",
      "      \"Population\": 10612577\n",
      "    },\n",
      "    {\n",
      "      \"Year\": 2000,\n",
      "      \"Population\": 9895217\n",
      "    },\n",
      "    {\n",
      "      \"Year\": 2010,\n",
      "      \"Population\": 9794304\n",
      "    },\n",
      "    {\n",
      "      \"Year\": 2015,\n",
      "      \"Population\": 9904312\n",
      "    },\n",
      "    {\n",
      "      \"Year\": 2020,\n",
      "      \"Population\": 9586195\n",
      "    },\n",
      "    {\n",
      "      \"Year\": 2023,\n",
      "      \"Population\": 9390000\n",
      "    }\n",
      "  ]\n",
      "}\n"
     ]
    }
   ],
   "source": [
    "convert_csv_to_json_file(\"../../csv/demographics/seoul.csv\", \"../../json/seoul/demographics.json\", \"populations\")"
   ]
  },
  {
   "cell_type": "code",
   "execution_count": null,
   "id": "fbea1b15-e253-4b9b-b31b-890a9e997adb",
   "metadata": {},
   "outputs": [],
   "source": []
  }
 ],
 "metadata": {
  "kernelspec": {
   "display_name": "Python 3 (ipykernel)",
   "language": "python",
   "name": "python3"
  },
  "language_info": {
   "codemirror_mode": {
    "name": "ipython",
    "version": 3
   },
   "file_extension": ".py",
   "mimetype": "text/x-python",
   "name": "python",
   "nbconvert_exporter": "python",
   "pygments_lexer": "ipython3",
   "version": "3.12.4"
  }
 },
 "nbformat": 4,
 "nbformat_minor": 5
}
